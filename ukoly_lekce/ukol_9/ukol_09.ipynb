{
 "cells": [
  {
   "cell_type": "code",
   "execution_count": null,
   "metadata": {},
   "outputs": [],
   "source": [
    "import pandas, requests\n",
    "\n",
    "url = R'https://raw.githubusercontent.com/andywaltlova/python-1-podzim-2022/master/ukoly/data/temperature.csv'\n",
    "r = requests.get(url)\n",
    "open(\"temperature.csv\", \"wb\").write(r.content)"
   ]
  },
  {
   "cell_type": "code",
   "execution_count": null,
   "metadata": {},
   "outputs": [],
   "source": [
    "teploty = pandas.read_csv(R'temperature.csv')\n",
    "teploty"
   ]
  },
  {
   "cell_type": "code",
   "execution_count": null,
   "metadata": {},
   "outputs": [],
   "source": [
    "praha_teploty = teploty[(teploty['City'] == 'Prague')]\n",
    "praha_teploty"
   ]
  },
  {
   "cell_type": "code",
   "execution_count": null,
   "metadata": {},
   "outputs": [],
   "source": [
    "nad_osmdesatstupnu = teploty[(teploty['AvgTemperature'] > 80)]\n",
    "nad_osmdesatstupnu"
   ]
  },
  {
   "cell_type": "code",
   "execution_count": null,
   "metadata": {},
   "outputs": [],
   "source": [
    "nad_sedesat_evropa = teploty[(teploty['AvgTemperature'] > 60) & (teploty['Region'] == 'Europe')]\n",
    "nad_sedesat_evropa"
   ]
  },
  {
   "cell_type": "code",
   "execution_count": null,
   "metadata": {},
   "outputs": [],
   "source": [
    "extrem_teploty = teploty[(teploty['AvgTemperature'] > 80) | (teploty['AvgTemperature'] < (-20))]\n",
    "extrem_teploty"
   ]
  },
  {
   "cell_type": "markdown",
   "metadata": {},
   "source": [
    "BONUS"
   ]
  },
  {
   "cell_type": "code",
   "execution_count": null,
   "metadata": {},
   "outputs": [],
   "source": [
    "import pytemperature\n",
    "\n",
    "teploty[\"AvgTemperatureCelsia\"] = pytemperature.f2c(teploty[\"AvgTemperature\"])\n",
    "teploty"
   ]
  },
  {
   "cell_type": "code",
   "execution_count": null,
   "metadata": {},
   "outputs": [],
   "source": [
    "nadtricet_teploty = teploty[(teploty['AvgTemperatureCelsia'] > 30)]\n",
    "nadtricet_teploty"
   ]
  },
  {
   "cell_type": "code",
   "execution_count": null,
   "metadata": {},
   "outputs": [],
   "source": [
    "#teploty_europe = teploty[(teploty['AvgTemperatureCelsia'] > 15) & (teploty['Region'] == 'Europe')]\n",
    "teploty_europe = teploty.query(\"AvgTemperatureCelsia > 15 and Region == 'Europe'\")\n",
    "teploty_europe"
   ]
  },
  {
   "cell_type": "code",
   "execution_count": null,
   "metadata": {},
   "outputs": [],
   "source": [
    "teploty_extrem = teploty[(teploty['AvgTemperatureCelsia'] > 30) | (teploty['AvgTemperatureCelsia'] < -15)]\n",
    "teploty_extrem"
   ]
  },
  {
   "cell_type": "markdown",
   "metadata": {},
   "source": [
    "BONUS 2"
   ]
  },
  {
   "cell_type": "code",
   "execution_count": null,
   "metadata": {},
   "outputs": [],
   "source": [
    "teploty_trinacteho = teploty[(teploty['Day'] == 13)]\n",
    "teploty_trinacteho"
   ]
  },
  {
   "cell_type": "code",
   "execution_count": null,
   "metadata": {},
   "outputs": [],
   "source": [
    "teploty_trinacteho_usa = teploty[(teploty['Day'] == 13) & (teploty['Country'] == 'US')]\n",
    "teploty_trinacteho_usa"
   ]
  },
  {
   "cell_type": "code",
   "execution_count": null,
   "metadata": {},
   "outputs": [],
   "source": [
    "teploty_trinacteho_usa.to_csv('temperature_usa.csv', sep = ',')\n",
    "\n",
    "teploty_dve = pandas.read_csv('temperature_usa.csv', index_col=0)\n",
    "teploty_dve"
   ]
  },
  {
   "cell_type": "code",
   "execution_count": null,
   "metadata": {},
   "outputs": [],
   "source": [
    "teploty_mesta = teploty_dve[(teploty_dve['City'] == 'Washington') | (teploty_dve['City'] == 'Philadelphia')]\n",
    "teploty_mesta"
   ]
  }
 ],
 "metadata": {
  "kernelspec": {
   "display_name": "Python 3.10.5 64-bit",
   "language": "python",
   "name": "python3"
  },
  "language_info": {
   "codemirror_mode": {
    "name": "ipython",
    "version": 3
   },
   "file_extension": ".py",
   "mimetype": "text/x-python",
   "name": "python",
   "nbconvert_exporter": "python",
   "pygments_lexer": "ipython3",
   "version": "3.11.0"
  },
  "orig_nbformat": 4,
  "vscode": {
   "interpreter": {
    "hash": "3e76de8c093f2eec0de7f8a9fb852f3025a70754bce50711dd9a29e35bde50a9"
   }
  }
 },
 "nbformat": 4,
 "nbformat_minor": 2
}
