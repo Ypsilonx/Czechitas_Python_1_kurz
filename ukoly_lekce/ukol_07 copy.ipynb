{
 "cells": [
  {
   "cell_type": "markdown",
   "metadata": {},
   "source": [
    "# Letní kino - cena vstupného"
   ]
  },
  {
   "cell_type": "markdown",
   "metadata": {},
   "source": [
    "import modulů:"
   ]
  },
  {
   "cell_type": "code",
   "execution_count": null,
   "metadata": {},
   "outputs": [],
   "source": [
    "from datetime import datetime"
   ]
  },
  {
   "cell_type": "markdown",
   "metadata": {},
   "source": [
    "Zavedení proměnných od uživatele:"
   ]
  },
  {
   "cell_type": "code",
   "execution_count": null,
   "metadata": {},
   "outputs": [],
   "source": [
    "datum_rezervace = datetime.strptime(input('Zadej datum rezervace: '), '%d.%m.%Y')\n",
    "pocet_listku = int(input('Kolik lístků chceš rezervovat: '))"
   ]
  },
  {
   "cell_type": "markdown",
   "metadata": {},
   "source": [
    "Stálé proměnné:\n",
    "- přidal jsem tam funkci, že sezóna platí každý rok do 2030\n",
    "- a funkci, že pokud si předplatíš další sezóny dostaneš slevu"
   ]
  },
  {
   "cell_type": "code",
   "execution_count": null,
   "metadata": {},
   "outputs": [],
   "source": [
    "year = range((datetime.now().year + 1), (datetime.now().year + 3))\n",
    "\n",
    "rok_rezervace = int(datum_rezervace.strftime('%Y'))\n",
    "zacatek_sezony = datetime(rok_rezervace, 7, 1)\n",
    "konec_sezony = datetime(rok_rezervace, 8, 31)\n",
    "zlevneni_listku = datetime(rok_rezervace, 8, 11)\n",
    "cena_listku = 250\n",
    "cena_listku_sleva = 180\n",
    "\n",
    "dneska_rok = datetime.now().year\n",
    "\n",
    "if rok_rezervace in year:\n",
    "    sleva = 0.75\n",
    "    objednavka = 'Za předplatné na další sezóny máš slevu 25%.'\n",
    "elif rok_rezervace < dneska_rok:\n",
    "    sleva = 0\n",
    "    objednavka = 'Rezervace do minulosti nelze zakoupit.\\nZadej letošní rok nebo se slevou příští roky.'\n",
    "elif rok_rezervace == dneska_rok:\n",
    "    sleva = 1\n",
    "    objednavka = 'Letošní termíny jsou bez slevy.'\n",
    "else:\n",
    "    sleva = 0.5\n",
    "    objednavka = 'Za předplatné na více než 10 let dopředu máš slevu 50%.\\nTakhle se pozná pravý fanoušek, děkujeme.\\npozn.: Před začátkem sezóny lze datum rezervace změnit.'"
   ]
  },
  {
   "cell_type": "markdown",
   "metadata": {},
   "source": [
    "### Samotný program:\n",
    "s výstupem"
   ]
  },
  {
   "cell_type": "code",
   "execution_count": null,
   "metadata": {},
   "outputs": [],
   "source": [
    "if zacatek_sezony <= datum_rezervace <= konec_sezony:\n",
    "    if datum_rezervace < zlevneni_listku:\n",
    "        celkem_cena = int(pocet_listku * cena_listku * sleva)\n",
    "    else:\n",
    "        celkem_cena = int(pocet_listku * cena_listku_sleva * sleva)\n",
    "    datum_rezervace_f = datum_rezervace.strftime('%d.%m.%Y')\n",
    "    print(f'Vybral si {datum_rezervace_f} pro {pocet_listku} míst za cenu {celkem_cena},- Kč.\\n{objednavka}')\n",
    "else:\n",
    "    print('Vybral jsi datum mimo sezonu letního kina.\\nZadej datum v období 1.7. - 31.8.')\n"
   ]
  }
 ],
 "metadata": {
  "kernelspec": {
   "display_name": "Python 3.10.5 64-bit",
   "language": "python",
   "name": "python3"
  },
  "language_info": {
   "codemirror_mode": {
    "name": "ipython",
    "version": 3
   },
   "file_extension": ".py",
   "mimetype": "text/x-python",
   "name": "python",
   "nbconvert_exporter": "python",
   "pygments_lexer": "ipython3",
   "version": "3.11.0"
  },
  "orig_nbformat": 4,
  "vscode": {
   "interpreter": {
    "hash": "3e76de8c093f2eec0de7f8a9fb852f3025a70754bce50711dd9a29e35bde50a9"
   }
  }
 },
 "nbformat": 4,
 "nbformat_minor": 2
}
