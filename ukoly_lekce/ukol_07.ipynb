{
 "cells": [
  {
   "cell_type": "markdown",
   "metadata": {},
   "source": [
    "# Letní kino - cena vstupného"
   ]
  },
  {
   "cell_type": "markdown",
   "metadata": {},
   "source": [
    "import modulů:"
   ]
  },
  {
   "cell_type": "code",
   "execution_count": 1,
   "metadata": {},
   "outputs": [],
   "source": [
    "from datetime import datetime, timedelta"
   ]
  },
  {
   "cell_type": "markdown",
   "metadata": {},
   "source": [
    "Zavedení proměnných od uživatele:"
   ]
  },
  {
   "cell_type": "code",
   "execution_count": 11,
   "metadata": {},
   "outputs": [],
   "source": [
    "datum_rezervace = datetime.strptime(input('Zadej datum rezervace: '), '%d.%m.%Y')\n",
    "pocet_listku = int(input('Kolik lístků chceš rezervovat: '))"
   ]
  },
  {
   "cell_type": "markdown",
   "metadata": {},
   "source": [
    "Stálé proměnné:\n",
    "- přidal jsem tam funkci, že sezóna platí každý rok do 2030\n",
    "- a funkci, že pokud si předplatíš další sezóny dostaneš slevu"
   ]
  },
  {
   "cell_type": "code",
   "execution_count": 26,
   "metadata": {},
   "outputs": [],
   "source": [
    "year = [2020, 2021, 2022, 2023, 2024, 2025, 2026, 2027, 2028, 2029, 2030]\n",
    "i = 0\n",
    "rok_rezervace = int(datum_rezervace.strftime('%Y'))\n",
    "for roky in year:\n",
    "    if rok_rezervace == roky:\n",
    "        zacatek_sezony = datetime(roky, 7, 1)\n",
    "        konec_sezony = datetime(roky, 8, 31)\n",
    "        zlevneni_listku = datetime(roky, 8, 11)\n",
    "    i += 1\n",
    "\n",
    "dneska_rok = int(datetime.now().strftime('%Y'))\n",
    "sleva = 0.75\n",
    "if dneska_rok == rok_rezervace:\n",
    "    cena_listku = 250\n",
    "    cena_listku_sleva = 180\n",
    "    objednavka = 'Letošní termíny jsou bez slevy.'\n",
    "elif dneska_rok < rok_rezervace:\n",
    "    cena_listku = 250 * sleva\n",
    "    cena_listku_sleva = 180 * sleva\n",
    "    objednavka = 'Za předplatné na další sezóny máš slevu 25%.'"
   ]
  },
  {
   "cell_type": "markdown",
   "metadata": {},
   "source": [
    "### Samotný program:\n",
    "s výstupem"
   ]
  },
  {
   "cell_type": "code",
   "execution_count": 27,
   "metadata": {},
   "outputs": [
    {
     "name": "stdout",
     "output_type": "stream",
     "text": [
      "Vybral si 25.08.2023 pro 10 míst za cenu 1350,- Kč.\n",
      "Za předplatné na další sezóny máš slevu 25%.\n"
     ]
    }
   ],
   "source": [
    "if zacatek_sezony <= datum_rezervace <= konec_sezony:\n",
    "    if datum_rezervace < zlevneni_listku:\n",
    "        celkem_cena = pocet_listku * cena_listku\n",
    "    else:\n",
    "        celkem_cena = int(pocet_listku * cena_listku_sleva)\n",
    "    datum_rezervace_f = datum_rezervace.strftime('%d.%m.%Y')\n",
    "    print(f'Vybral si {datum_rezervace_f} pro {pocet_listku} míst za cenu {celkem_cena},- Kč.\\n{objednavka}')\n",
    "else:\n",
    "    print('Vybral jsi datum mimo sezonu letního kina.\\nZadej datum v období 1.7. - 31.8.')\n"
   ]
  }
 ],
 "metadata": {
  "kernelspec": {
   "display_name": "Python 3.10.5 64-bit",
   "language": "python",
   "name": "python3"
  },
  "language_info": {
   "codemirror_mode": {
    "name": "ipython",
    "version": 3
   },
   "file_extension": ".py",
   "mimetype": "text/x-python",
   "name": "python",
   "nbconvert_exporter": "python",
   "pygments_lexer": "ipython3",
   "version": "3.10.5"
  },
  "orig_nbformat": 4,
  "vscode": {
   "interpreter": {
    "hash": "3e76de8c093f2eec0de7f8a9fb852f3025a70754bce50711dd9a29e35bde50a9"
   }
  }
 },
 "nbformat": 4,
 "nbformat_minor": 2
}
