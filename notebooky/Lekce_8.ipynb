{
 "cells": [
  {
   "cell_type": "code",
   "execution_count": 1,
   "metadata": {},
   "outputs": [
    {
     "name": "stdout",
     "output_type": "stream",
     "text": [
      "1.5.0\n",
      "module is installed\n"
     ]
    }
   ],
   "source": [
    "# Mám nainstalovaný modul pandas?\n",
    "import sys\n",
    "sys.modules.keys()\n",
    "\n",
    "import pandas\n",
    "print(pandas.__version__)\n",
    "\n",
    "## Nebo:\n",
    "try:\n",
    "    import pandas\n",
    "    print(\"module is installed\")\n",
    "except ModuleNotFoundError:\n",
    "    print(\"module is not installed\")"
   ]
  },
  {
   "cell_type": "code",
   "execution_count": null,
   "metadata": {},
   "outputs": [],
   "source": [
    "import pandas\n",
    "nakupy = pandas.read_csv(R'..\\soubory_k_praci\\nakupy.csv') #<- \"R\" pro ignoraci obrácených lomítek\n",
    "print(nakupy)"
   ]
  },
  {
   "cell_type": "code",
   "execution_count": null,
   "metadata": {},
   "outputs": [],
   "source": [
    "nakupy.info()"
   ]
  },
  {
   "cell_type": "code",
   "execution_count": null,
   "metadata": {},
   "outputs": [],
   "source": [
    "# Pokud by nás třeba zajímal jen počet řádků, napíšeme:\n",
    "pocet_radku = nakupy.shape[0]\n",
    "print(\"Moje data mají \" + str(pocet_radku) + \" řádků.\")"
   ]
  },
  {
   "cell_type": "code",
   "execution_count": null,
   "metadata": {},
   "outputs": [],
   "source": [
    "## Stazeni souboru nakupy.csv\n",
    "import requests\n",
    "\n",
    "# requests.packages.urllib3.disable_warnings()\n",
    "\n",
    "url = R\"https://kodim.cz/cms/assets/kurzy/python-data-1/python-pro-data-1/nacteni-dat/excs/excs%3Enabidky/DataAnalyst.csv\"\n",
    "r = requests.get(url, allow_redirects=True, verify=False)\n",
    "open(\"DataAnalyst.csv\", \"wb\").write(r.content)"
   ]
  },
  {
   "cell_type": "code",
   "execution_count": null,
   "metadata": {},
   "outputs": [],
   "source": [
    "import pandas\n",
    "jobs = pandas.read_csv(R'..\\soubory_k_praci\\DataAnalyst.csv', index_col=0) #<- \"R\" pro ignoraci obrácených lomítek; index_col= bez indexu od pandasu\n",
    "jobs"
   ]
  },
  {
   "cell_type": "code",
   "execution_count": null,
   "metadata": {},
   "outputs": [],
   "source": [
    "jobs.info()"
   ]
  },
  {
   "cell_type": "code",
   "execution_count": null,
   "metadata": {},
   "outputs": [],
   "source": [
    "#jobs.columns\n",
    "list(jobs.columns)\n",
    "#print(nakupy.iloc[:, 0].unique())"
   ]
  },
  {
   "cell_type": "code",
   "execution_count": null,
   "metadata": {},
   "outputs": [],
   "source": [
    "#len(jobs)\n",
    "jobs.shape#[0]"
   ]
  },
  {
   "cell_type": "code",
   "execution_count": null,
   "metadata": {},
   "outputs": [],
   "source": [
    "jobs.iloc[9]# [[9]] vyrobí dataframe"
   ]
  },
  {
   "cell_type": "code",
   "execution_count": null,
   "metadata": {},
   "outputs": [],
   "source": [
    "jobs.iloc[11:20]\n",
    "#jobs.iloc[11:20, 5:11]\n",
    "#jobs.iloc[11:20]['Location']\n",
    "#jobs.iloc[11:20].Location"
   ]
  }
 ],
 "metadata": {
  "kernelspec": {
   "display_name": "Python 3.10.5 64-bit",
   "language": "python",
   "name": "python3"
  },
  "language_info": {
   "codemirror_mode": {
    "name": "ipython",
    "version": 3
   },
   "file_extension": ".py",
   "mimetype": "text/x-python",
   "name": "python",
   "nbconvert_exporter": "python",
   "pygments_lexer": "ipython3",
   "version": "3.10.5"
  },
  "orig_nbformat": 4,
  "vscode": {
   "interpreter": {
    "hash": "3e76de8c093f2eec0de7f8a9fb852f3025a70754bce50711dd9a29e35bde50a9"
   }
  }
 },
 "nbformat": 4,
 "nbformat_minor": 2
}
