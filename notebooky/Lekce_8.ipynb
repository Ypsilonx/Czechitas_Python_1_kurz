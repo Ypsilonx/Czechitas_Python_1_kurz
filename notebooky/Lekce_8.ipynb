{
 "cells": [
  {
   "cell_type": "code",
   "execution_count": 11,
   "metadata": {},
   "outputs": [
    {
     "name": "stdout",
     "output_type": "stream",
     "text": [
      "1.5.0\n",
      "module is installed\n"
     ]
    }
   ],
   "source": [
    "# Mám nainstalovaný modul pandas?\n",
    "import sys\n",
    "sys.modules.keys()\n",
    "\n",
    "import pandas\n",
    "print(pandas.__version__)\n",
    "\n",
    "## Nebo:\n",
    "try:\n",
    "    import pandas\n",
    "    print(\"module is installed\")\n",
    "except ModuleNotFoundError:\n",
    "    print(\"module is not installed\")"
   ]
  },
  {
   "cell_type": "code",
   "execution_count": 1,
   "metadata": {},
   "outputs": [
    {
     "name": "stdout",
     "output_type": "stream",
     "text": [
      "    Jméno       Datum               Věc  Částka v korunách\n",
      "0    Petr  2020-02-05      Prací prášek                399\n",
      "1   Ondra  2020-02-08              Savo                 80\n",
      "2    Petr  2020-02-24    Toaletní papír                 65\n",
      "3   Libor  2020-03-05              Pivo                124\n",
      "4    Petr  2020-03-18  Pytel na odpadky                 75\n",
      "5    Míša  2020-03-30  Utěrky na nádobí                130\n",
      "6   Ondra  2020-04-22    Toaletní papír                120\n",
      "7    Míša  2020-05-05      Pečící papír                 30\n",
      "8   Zuzka  2020-06-05              Savo                 80\n",
      "9   Pavla  2020-06-13             Máslo                 50\n",
      "10  Ondra  2020-07-25              Káva                300\n"
     ]
    }
   ],
   "source": [
    "import pandas\n",
    "nakupy = pandas.read_csv(R'H:\\61_Programing\\learning\\Czechitas_Python_1_kurz\\soubory_k_praci\\nakupy.csv') #<- \"R\" pro ignoraci obrácených lomítek\n",
    "print(nakupy)"
   ]
  },
  {
   "cell_type": "code",
   "execution_count": 12,
   "metadata": {},
   "outputs": [
    {
     "name": "stdout",
     "output_type": "stream",
     "text": [
      "<class 'pandas.core.frame.DataFrame'>\n",
      "RangeIndex: 11 entries, 0 to 10\n",
      "Data columns (total 4 columns):\n",
      " #   Column             Non-Null Count  Dtype \n",
      "---  ------             --------------  ----- \n",
      " 0   Jméno              11 non-null     object\n",
      " 1   Datum              11 non-null     object\n",
      " 2   Věc                11 non-null     object\n",
      " 3   Částka v korunách  11 non-null     int64 \n",
      "dtypes: int64(1), object(3)\n",
      "memory usage: 480.0+ bytes\n"
     ]
    }
   ],
   "source": [
    "nakupy.info()"
   ]
  },
  {
   "cell_type": "code",
   "execution_count": 13,
   "metadata": {},
   "outputs": [
    {
     "name": "stdout",
     "output_type": "stream",
     "text": [
      "Moje data mají 11 řádků.\n"
     ]
    }
   ],
   "source": [
    "# Pokud by nás třeba zajímal jen počet řádků, napíšeme:\n",
    "pocet_radku = nakupy.shape[0]\n",
    "print(\"Moje data mají \" + str(pocet_radku) + \" řádků.\")"
   ]
  },
  {
   "cell_type": "code",
   "execution_count": 14,
   "metadata": {},
   "outputs": [
    {
     "data": {
      "text/plain": [
       "11"
      ]
     },
     "execution_count": 14,
     "metadata": {},
     "output_type": "execute_result"
    }
   ],
   "source": []
  }
 ],
 "metadata": {
  "kernelspec": {
   "display_name": "Python 3.10.5 64-bit",
   "language": "python",
   "name": "python3"
  },
  "language_info": {
   "codemirror_mode": {
    "name": "ipython",
    "version": 3
   },
   "file_extension": ".py",
   "mimetype": "text/x-python",
   "name": "python",
   "nbconvert_exporter": "python",
   "pygments_lexer": "ipython3",
   "version": "3.10.5"
  },
  "orig_nbformat": 4,
  "vscode": {
   "interpreter": {
    "hash": "6f5f5e4df31efc4d317edbd66fea0d31331708c503df125c6b2bac5d7e8ef81e"
   }
  }
 },
 "nbformat": 4,
 "nbformat_minor": 2
}
