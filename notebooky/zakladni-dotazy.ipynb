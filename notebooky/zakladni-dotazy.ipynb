{
 "cells": [
  {
   "cell_type": "markdown",
   "metadata": {},
   "source": [
    "# Základní dotazy\n",
    "\n",
    "<https://kodim.cz/kurzy/python-data-1/python-pro-data-1/zakladni-dotazy/zakladni-dotazy>\n",
    "\n"
   ]
  },
  {
   "cell_type": "code",
   "execution_count": 2,
   "metadata": {},
   "outputs": [
    {
     "data": {
      "text/plain": [
       "42534"
      ]
     },
     "execution_count": 2,
     "metadata": {},
     "output_type": "execute_result"
    }
   ],
   "source": [
    "# Stahneme si data, s kterymi budeme pracovat\n",
    "import requests\n",
    "\n",
    "url = \"https://kodim.cz/cms/assets/kurzy/python-data-1/python-pro-data-1/zakladni-dotazy/staty.json\"\n",
    "r = requests.get(url) # <Response [200]>\n",
    "open(\"staty.json\", \"wb\").write(r.content)"
   ]
  },
  {
   "cell_type": "markdown",
   "metadata": {},
   "source": [
    "## Indexy"
   ]
  },
  {
   "cell_type": "markdown",
   "metadata": {},
   "source": [
    "### Přidání indexů"
   ]
  },
  {
   "cell_type": "code",
   "execution_count": 3,
   "metadata": {},
   "outputs": [
    {
     "data": {
      "text/html": [
       "<div>\n",
       "<style scoped>\n",
       "    .dataframe tbody tr th:only-of-type {\n",
       "        vertical-align: middle;\n",
       "    }\n",
       "\n",
       "    .dataframe tbody tr th {\n",
       "        vertical-align: top;\n",
       "    }\n",
       "\n",
       "    .dataframe thead th {\n",
       "        text-align: right;\n",
       "    }\n",
       "</style>\n",
       "<table border=\"1\" class=\"dataframe\">\n",
       "  <thead>\n",
       "    <tr style=\"text-align: right;\">\n",
       "      <th></th>\n",
       "      <th>name</th>\n",
       "      <th>alpha2Code</th>\n",
       "      <th>alpha3Code</th>\n",
       "      <th>capital</th>\n",
       "      <th>region</th>\n",
       "      <th>subregion</th>\n",
       "      <th>population</th>\n",
       "      <th>area</th>\n",
       "      <th>gini</th>\n",
       "    </tr>\n",
       "  </thead>\n",
       "  <tbody>\n",
       "    <tr>\n",
       "      <th>0</th>\n",
       "      <td>Afghanistan</td>\n",
       "      <td>AF</td>\n",
       "      <td>AFG</td>\n",
       "      <td>Kabul</td>\n",
       "      <td>Asia</td>\n",
       "      <td>Southern Asia</td>\n",
       "      <td>27657145</td>\n",
       "      <td>652230.0</td>\n",
       "      <td>27.8</td>\n",
       "    </tr>\n",
       "    <tr>\n",
       "      <th>1</th>\n",
       "      <td>Åland Islands</td>\n",
       "      <td>AX</td>\n",
       "      <td>ALA</td>\n",
       "      <td>Mariehamn</td>\n",
       "      <td>Europe</td>\n",
       "      <td>Northern Europe</td>\n",
       "      <td>28875</td>\n",
       "      <td>1580.0</td>\n",
       "      <td>NaN</td>\n",
       "    </tr>\n",
       "    <tr>\n",
       "      <th>2</th>\n",
       "      <td>Albania</td>\n",
       "      <td>AL</td>\n",
       "      <td>ALB</td>\n",
       "      <td>Tirana</td>\n",
       "      <td>Europe</td>\n",
       "      <td>Southern Europe</td>\n",
       "      <td>2886026</td>\n",
       "      <td>28748.0</td>\n",
       "      <td>34.5</td>\n",
       "    </tr>\n",
       "    <tr>\n",
       "      <th>3</th>\n",
       "      <td>Algeria</td>\n",
       "      <td>DZ</td>\n",
       "      <td>DZA</td>\n",
       "      <td>Algiers</td>\n",
       "      <td>Africa</td>\n",
       "      <td>Northern Africa</td>\n",
       "      <td>40400000</td>\n",
       "      <td>2381741.0</td>\n",
       "      <td>35.3</td>\n",
       "    </tr>\n",
       "    <tr>\n",
       "      <th>4</th>\n",
       "      <td>American Samoa</td>\n",
       "      <td>AS</td>\n",
       "      <td>ASM</td>\n",
       "      <td>Pago Pago</td>\n",
       "      <td>Oceania</td>\n",
       "      <td>Polynesia</td>\n",
       "      <td>57100</td>\n",
       "      <td>199.0</td>\n",
       "      <td>NaN</td>\n",
       "    </tr>\n",
       "  </tbody>\n",
       "</table>\n",
       "</div>"
      ],
      "text/plain": [
       "             name alpha2Code alpha3Code    capital   region        subregion  \\\n",
       "0     Afghanistan         AF        AFG      Kabul     Asia    Southern Asia   \n",
       "1   Åland Islands         AX        ALA  Mariehamn   Europe  Northern Europe   \n",
       "2         Albania         AL        ALB     Tirana   Europe  Southern Europe   \n",
       "3         Algeria         DZ        DZA    Algiers   Africa  Northern Africa   \n",
       "4  American Samoa         AS        ASM  Pago Pago  Oceania        Polynesia   \n",
       "\n",
       "   population       area  gini  \n",
       "0    27657145   652230.0  27.8  \n",
       "1       28875     1580.0   NaN  \n",
       "2     2886026    28748.0  34.5  \n",
       "3    40400000  2381741.0  35.3  \n",
       "4       57100      199.0   NaN  "
      ]
     },
     "execution_count": 3,
     "metadata": {},
     "output_type": "execute_result"
    }
   ],
   "source": [
    "import pandas\n",
    "\n",
    "staty = pandas.read_json(\"../soubory_k_praci/staty.json\")\n",
    "staty.head() #staty.info\n"
   ]
  },
  {
   "cell_type": "markdown",
   "metadata": {},
   "source": [
    "Každý stát na světě má svůj název a ten název je unikátní a identifikuje ho. \n",
    "\n",
    "Můžeme tedy tento název použít jako index.\n",
    "\n",
    "To, jaký sloupec má být použit jako index, řeší funkce `set_index()`."
   ]
  },
  {
   "cell_type": "code",
   "execution_count": 4,
   "metadata": {},
   "outputs": [],
   "source": [
    "# Nastaveni indexu\n",
    "staty = staty.set_index(\"name\")"
   ]
  },
  {
   "cell_type": "markdown",
   "metadata": {},
   "source": [
    "Zkontrolovat index můžeme pomocí příkazu `staty.index`."
   ]
  },
  {
   "cell_type": "code",
   "execution_count": 5,
   "metadata": {},
   "outputs": [
    {
     "data": {
      "text/plain": [
       "Index(['Afghanistan', 'Åland Islands', 'Albania', 'Algeria', 'American Samoa',\n",
       "       'Andorra', 'Angola', 'Anguilla', 'Antarctica', 'Antigua and Barbuda',\n",
       "       ...\n",
       "       'Uruguay', 'Uzbekistan', 'Vanuatu',\n",
       "       'Venezuela (Bolivarian Republic of)', 'Viet Nam', 'Wallis and Futuna',\n",
       "       'Western Sahara', 'Yemen', 'Zambia', 'Zimbabwe'],\n",
       "      dtype='object', name='name', length=250)"
      ]
     },
     "execution_count": 5,
     "metadata": {},
     "output_type": "execute_result"
    }
   ],
   "source": [
    "staty.index"
   ]
  },
  {
   "cell_type": "markdown",
   "metadata": {},
   "source": [
    "### Výběr konkrétního řádku a hodnoty\n",
    "\n",
    "K nalezení řádku pomocí indexu použijeme `loc`, která funguje obdobně jako funkce `iloc`. \n",
    "\n",
    "* `iloc` pracuje s čísly řádků\n",
    "* `loc` používá nami zvolené indexy"
   ]
  },
  {
   "cell_type": "code",
   "execution_count": 6,
   "metadata": {},
   "outputs": [
    {
     "data": {
      "text/plain": [
       "alpha2Code                CZ\n",
       "alpha3Code               CZE\n",
       "capital               Prague\n",
       "region                Europe\n",
       "subregion     Eastern Europe\n",
       "population          10558524\n",
       "area                 78865.0\n",
       "gini                    26.0\n",
       "Name: Czech Republic, dtype: object"
      ]
     },
     "execution_count": 6,
     "metadata": {},
     "output_type": "execute_result"
    }
   ],
   "source": [
    "# vyber radku\n",
    "staty.loc[\"Czech Republic\"]"
   ]
  },
  {
   "cell_type": "code",
   "execution_count": 7,
   "metadata": {},
   "outputs": [
    {
     "data": {
      "text/plain": [
       "78865.0"
      ]
     },
     "execution_count": 7,
     "metadata": {},
     "output_type": "execute_result"
    }
   ],
   "source": [
    "# vyber radku a sloupce\n",
    "staty.loc[\"Czech Republic\",\"area\"]"
   ]
  },
  {
   "cell_type": "markdown",
   "metadata": {},
   "source": [
    "### Výběr několika řádků"
   ]
  },
  {
   "cell_type": "code",
   "execution_count": 8,
   "metadata": {},
   "outputs": [
    {
     "data": {
      "text/html": [
       "<div>\n",
       "<style scoped>\n",
       "    .dataframe tbody tr th:only-of-type {\n",
       "        vertical-align: middle;\n",
       "    }\n",
       "\n",
       "    .dataframe tbody tr th {\n",
       "        vertical-align: top;\n",
       "    }\n",
       "\n",
       "    .dataframe thead th {\n",
       "        text-align: right;\n",
       "    }\n",
       "</style>\n",
       "<table border=\"1\" class=\"dataframe\">\n",
       "  <thead>\n",
       "    <tr style=\"text-align: right;\">\n",
       "      <th></th>\n",
       "      <th>alpha2Code</th>\n",
       "      <th>alpha3Code</th>\n",
       "      <th>capital</th>\n",
       "      <th>region</th>\n",
       "      <th>subregion</th>\n",
       "      <th>population</th>\n",
       "      <th>area</th>\n",
       "      <th>gini</th>\n",
       "    </tr>\n",
       "    <tr>\n",
       "      <th>name</th>\n",
       "      <th></th>\n",
       "      <th></th>\n",
       "      <th></th>\n",
       "      <th></th>\n",
       "      <th></th>\n",
       "      <th></th>\n",
       "      <th></th>\n",
       "      <th></th>\n",
       "    </tr>\n",
       "  </thead>\n",
       "  <tbody>\n",
       "    <tr>\n",
       "      <th>Czech Republic</th>\n",
       "      <td>CZ</td>\n",
       "      <td>CZE</td>\n",
       "      <td>Prague</td>\n",
       "      <td>Europe</td>\n",
       "      <td>Eastern Europe</td>\n",
       "      <td>10558524</td>\n",
       "      <td>78865.0</td>\n",
       "      <td>26.0</td>\n",
       "    </tr>\n",
       "    <tr>\n",
       "      <th>Denmark</th>\n",
       "      <td>DK</td>\n",
       "      <td>DNK</td>\n",
       "      <td>Copenhagen</td>\n",
       "      <td>Europe</td>\n",
       "      <td>Northern Europe</td>\n",
       "      <td>5717014</td>\n",
       "      <td>43094.0</td>\n",
       "      <td>24.0</td>\n",
       "    </tr>\n",
       "    <tr>\n",
       "      <th>Djibouti</th>\n",
       "      <td>DJ</td>\n",
       "      <td>DJI</td>\n",
       "      <td>Djibouti</td>\n",
       "      <td>Africa</td>\n",
       "      <td>Eastern Africa</td>\n",
       "      <td>900000</td>\n",
       "      <td>23200.0</td>\n",
       "      <td>40.0</td>\n",
       "    </tr>\n",
       "    <tr>\n",
       "      <th>Dominica</th>\n",
       "      <td>DM</td>\n",
       "      <td>DMA</td>\n",
       "      <td>Roseau</td>\n",
       "      <td>Americas</td>\n",
       "      <td>Caribbean</td>\n",
       "      <td>71293</td>\n",
       "      <td>751.0</td>\n",
       "      <td>NaN</td>\n",
       "    </tr>\n",
       "    <tr>\n",
       "      <th>Dominican Republic</th>\n",
       "      <td>DO</td>\n",
       "      <td>DOM</td>\n",
       "      <td>Santo Domingo</td>\n",
       "      <td>Americas</td>\n",
       "      <td>Caribbean</td>\n",
       "      <td>10075045</td>\n",
       "      <td>48671.0</td>\n",
       "      <td>47.2</td>\n",
       "    </tr>\n",
       "  </tbody>\n",
       "</table>\n",
       "</div>"
      ],
      "text/plain": [
       "                   alpha2Code alpha3Code        capital    region  \\\n",
       "name                                                                \n",
       "Czech Republic             CZ        CZE         Prague    Europe   \n",
       "Denmark                    DK        DNK     Copenhagen    Europe   \n",
       "Djibouti                   DJ        DJI       Djibouti    Africa   \n",
       "Dominica                   DM        DMA         Roseau  Americas   \n",
       "Dominican Republic         DO        DOM  Santo Domingo  Americas   \n",
       "\n",
       "                          subregion  population     area  gini  \n",
       "name                                                            \n",
       "Czech Republic       Eastern Europe    10558524  78865.0  26.0  \n",
       "Denmark             Northern Europe     5717014  43094.0  24.0  \n",
       "Djibouti             Eastern Africa      900000  23200.0  40.0  \n",
       "Dominica                  Caribbean       71293    751.0   NaN  \n",
       "Dominican Republic        Caribbean    10075045  48671.0  47.2  "
      ]
     },
     "execution_count": 8,
     "metadata": {},
     "output_type": "execute_result"
    }
   ],
   "source": [
    "# Náš soubor je seřazený dle abecedy.\n",
    "staty.loc[\"Czech Republic\":\"Dominican Republic\"]\n",
    "\n",
    "# staty.loc[:\"Andorra\"]\n",
    "# staty.loc[\"Uzbekistan\":] \n",
    "# staty.loc[[\"Czech Republic\",\"Slovakia\"]]\n",
    "# staty.loc[[\"Slovakia\",\"Poland\",\"Germany\",\"Austria\"], [\"area\",\"population\"]]"
   ]
  },
  {
   "cell_type": "markdown",
   "metadata": {},
   "source": [
    "## Dotazy"
   ]
  },
  {
   "cell_type": "markdown",
   "metadata": {},
   "source": [
    "Série umí například sama spočítat svůj součet a vrátit výsledek jako číslo. \n",
    "\n",
    "Dokumentace: https://pandas.pydata.org/pandas-docs/stable/reference/api/pandas.Series.html"
   ]
  },
  {
   "cell_type": "code",
   "execution_count": 9,
   "metadata": {},
   "outputs": [
    {
     "data": {
      "text/plain": [
       "7349137231"
      ]
     },
     "execution_count": 9,
     "metadata": {},
     "output_type": "execute_result"
    }
   ],
   "source": [
    "populace = staty[\"population\"]\n",
    "populace.sum()"
   ]
  },
  {
   "cell_type": "code",
   "execution_count": 10,
   "metadata": {},
   "outputs": [
    {
     "name": "stdout",
     "output_type": "stream",
     "text": [
      "Prumer je 29396548.924.\n",
      "Minumum je 0.\n",
      "Maximum je 1377422166.\n",
      "Median je 4648733.5.\n"
     ]
    }
   ],
   "source": [
    "print(f\"Prumer je {populace.mean()}.\")\n",
    "print(f\"Minumum je {populace.min()}.\")\n",
    "print(f\"Maximum je {populace.max()}.\")\n",
    "print(f\"Median je {populace.median()}.\")"
   ]
  },
  {
   "cell_type": "code",
   "execution_count": 11,
   "metadata": {},
   "outputs": [
    {
     "data": {
      "text/plain": [
       "count    2.500000e+02\n",
       "mean     2.939655e+07\n",
       "std      1.244578e+08\n",
       "min      0.000000e+00\n",
       "25%      2.029030e+05\n",
       "50%      4.648734e+06\n",
       "75%      1.803955e+07\n",
       "max      1.377422e+09\n",
       "Name: population, dtype: float64"
      ]
     },
     "execution_count": 11,
     "metadata": {},
     "output_type": "execute_result"
    }
   ],
   "source": [
    "populace.describe()\n",
    "\n",
    "# staty.describe() # lze pouzit na cely DataFrame"
   ]
  },
  {
   "cell_type": "markdown",
   "metadata": {},
   "source": [
    "## Podmínky"
   ]
  },
  {
   "cell_type": "markdown",
   "metadata": {},
   "source": [
    "Ověřením podmínky získáme sloupec, kde máme 250 hodnot typu `bool`."
   ]
  },
  {
   "cell_type": "code",
   "execution_count": 12,
   "metadata": {},
   "outputs": [
    {
     "data": {
      "text/plain": [
       "name\n",
       "Afghanistan          False\n",
       "Åland Islands        False\n",
       "Albania              False\n",
       "Algeria              False\n",
       "American Samoa       False\n",
       "                     ...  \n",
       "Wallis and Futuna    False\n",
       "Western Sahara       False\n",
       "Yemen                False\n",
       "Zambia               False\n",
       "Zimbabwe             False\n",
       "Name: population, Length: 250, dtype: bool"
      ]
     },
     "execution_count": 12,
     "metadata": {},
     "output_type": "execute_result"
    }
   ],
   "source": [
    "# státy, které mají méně než 1000 obyvatel\n",
    "\n",
    "staty[\"population\"] < 1000\n"
   ]
  },
  {
   "cell_type": "markdown",
   "metadata": {},
   "source": [
    "`pandas` teď jednoduše udělají to, že vypíšou ty řádky řádky, kde má náš polotovar hodnotu `True` a ty, které mají hodnotu `False`, před námi skryjí."
   ]
  },
  {
   "cell_type": "code",
   "execution_count": 13,
   "metadata": {},
   "outputs": [
    {
     "data": {
      "text/html": [
       "<div>\n",
       "<style scoped>\n",
       "    .dataframe tbody tr th:only-of-type {\n",
       "        vertical-align: middle;\n",
       "    }\n",
       "\n",
       "    .dataframe tbody tr th {\n",
       "        vertical-align: top;\n",
       "    }\n",
       "\n",
       "    .dataframe thead th {\n",
       "        text-align: right;\n",
       "    }\n",
       "</style>\n",
       "<table border=\"1\" class=\"dataframe\">\n",
       "  <thead>\n",
       "    <tr style=\"text-align: right;\">\n",
       "      <th></th>\n",
       "      <th>population</th>\n",
       "      <th>area</th>\n",
       "    </tr>\n",
       "    <tr>\n",
       "      <th>name</th>\n",
       "      <th></th>\n",
       "      <th></th>\n",
       "    </tr>\n",
       "  </thead>\n",
       "  <tbody>\n",
       "    <tr>\n",
       "      <th>Bouvet Island</th>\n",
       "      <td>0</td>\n",
       "      <td>49.00</td>\n",
       "    </tr>\n",
       "    <tr>\n",
       "      <th>United States Minor Outlying Islands</th>\n",
       "      <td>300</td>\n",
       "      <td>NaN</td>\n",
       "    </tr>\n",
       "    <tr>\n",
       "      <th>Cocos (Keeling) Islands</th>\n",
       "      <td>550</td>\n",
       "      <td>14.00</td>\n",
       "    </tr>\n",
       "    <tr>\n",
       "      <th>French Southern Territories</th>\n",
       "      <td>140</td>\n",
       "      <td>7747.00</td>\n",
       "    </tr>\n",
       "    <tr>\n",
       "      <th>Heard Island and McDonald Islands</th>\n",
       "      <td>0</td>\n",
       "      <td>412.00</td>\n",
       "    </tr>\n",
       "    <tr>\n",
       "      <th>Holy See</th>\n",
       "      <td>451</td>\n",
       "      <td>0.44</td>\n",
       "    </tr>\n",
       "    <tr>\n",
       "      <th>Pitcairn</th>\n",
       "      <td>56</td>\n",
       "      <td>47.00</td>\n",
       "    </tr>\n",
       "    <tr>\n",
       "      <th>South Georgia and the South Sandwich Islands</th>\n",
       "      <td>30</td>\n",
       "      <td>NaN</td>\n",
       "    </tr>\n",
       "  </tbody>\n",
       "</table>\n",
       "</div>"
      ],
      "text/plain": [
       "                                              population     area\n",
       "name                                                             \n",
       "Bouvet Island                                          0    49.00\n",
       "United States Minor Outlying Islands                 300      NaN\n",
       "Cocos (Keeling) Islands                              550    14.00\n",
       "French Southern Territories                          140  7747.00\n",
       "Heard Island and McDonald Islands                      0   412.00\n",
       "Holy See                                             451     0.44\n",
       "Pitcairn                                              56    47.00\n",
       "South Georgia and the South Sandwich Islands          30      NaN"
      ]
     },
     "execution_count": 13,
     "metadata": {},
     "output_type": "execute_result"
    }
   ],
   "source": [
    "pidistaty = staty[staty[\"population\"] < 1000]\n",
    "\n",
    "pidistaty[[\"population\", \"area\"]] "
   ]
  },
  {
   "cell_type": "markdown",
   "metadata": {},
   "source": [
    "V některých řádcích vidíme hodnotu NaN. To značí, že pro daný řádek hodnotu nemáme, pro některé státy tedy nemáme zadanou rozlohu. "
   ]
  },
  {
   "cell_type": "code",
   "execution_count": 14,
   "metadata": {},
   "outputs": [
    {
     "data": {
      "text/html": [
       "<div>\n",
       "<style scoped>\n",
       "    .dataframe tbody tr th:only-of-type {\n",
       "        vertical-align: middle;\n",
       "    }\n",
       "\n",
       "    .dataframe tbody tr th {\n",
       "        vertical-align: top;\n",
       "    }\n",
       "\n",
       "    .dataframe thead th {\n",
       "        text-align: right;\n",
       "    }\n",
       "</style>\n",
       "<table border=\"1\" class=\"dataframe\">\n",
       "  <thead>\n",
       "    <tr style=\"text-align: right;\">\n",
       "      <th></th>\n",
       "      <th>alpha2Code</th>\n",
       "      <th>alpha3Code</th>\n",
       "      <th>capital</th>\n",
       "      <th>region</th>\n",
       "      <th>subregion</th>\n",
       "      <th>population</th>\n",
       "      <th>area</th>\n",
       "      <th>gini</th>\n",
       "    </tr>\n",
       "    <tr>\n",
       "      <th>name</th>\n",
       "      <th></th>\n",
       "      <th></th>\n",
       "      <th></th>\n",
       "      <th></th>\n",
       "      <th></th>\n",
       "      <th></th>\n",
       "      <th></th>\n",
       "      <th></th>\n",
       "    </tr>\n",
       "  </thead>\n",
       "  <tbody>\n",
       "    <tr>\n",
       "      <th>Bouvet Island</th>\n",
       "      <td>BV</td>\n",
       "      <td>BVT</td>\n",
       "      <td></td>\n",
       "      <td></td>\n",
       "      <td></td>\n",
       "      <td>0</td>\n",
       "      <td>49.00</td>\n",
       "      <td>NaN</td>\n",
       "    </tr>\n",
       "    <tr>\n",
       "      <th>United States Minor Outlying Islands</th>\n",
       "      <td>UM</td>\n",
       "      <td>UMI</td>\n",
       "      <td></td>\n",
       "      <td>Americas</td>\n",
       "      <td>Northern America</td>\n",
       "      <td>300</td>\n",
       "      <td>NaN</td>\n",
       "      <td>NaN</td>\n",
       "    </tr>\n",
       "    <tr>\n",
       "      <th>Cocos (Keeling) Islands</th>\n",
       "      <td>CC</td>\n",
       "      <td>CCK</td>\n",
       "      <td>West Island</td>\n",
       "      <td>Oceania</td>\n",
       "      <td>Australia and New Zealand</td>\n",
       "      <td>550</td>\n",
       "      <td>14.00</td>\n",
       "      <td>NaN</td>\n",
       "    </tr>\n",
       "    <tr>\n",
       "      <th>French Southern Territories</th>\n",
       "      <td>TF</td>\n",
       "      <td>ATF</td>\n",
       "      <td>Port-aux-Français</td>\n",
       "      <td>Africa</td>\n",
       "      <td>Southern Africa</td>\n",
       "      <td>140</td>\n",
       "      <td>7747.00</td>\n",
       "      <td>NaN</td>\n",
       "    </tr>\n",
       "    <tr>\n",
       "      <th>Heard Island and McDonald Islands</th>\n",
       "      <td>HM</td>\n",
       "      <td>HMD</td>\n",
       "      <td></td>\n",
       "      <td></td>\n",
       "      <td></td>\n",
       "      <td>0</td>\n",
       "      <td>412.00</td>\n",
       "      <td>NaN</td>\n",
       "    </tr>\n",
       "    <tr>\n",
       "      <th>Holy See</th>\n",
       "      <td>VA</td>\n",
       "      <td>VAT</td>\n",
       "      <td>Rome</td>\n",
       "      <td>Europe</td>\n",
       "      <td>Southern Europe</td>\n",
       "      <td>451</td>\n",
       "      <td>0.44</td>\n",
       "      <td>NaN</td>\n",
       "    </tr>\n",
       "    <tr>\n",
       "      <th>Pitcairn</th>\n",
       "      <td>PN</td>\n",
       "      <td>PCN</td>\n",
       "      <td>Adamstown</td>\n",
       "      <td>Oceania</td>\n",
       "      <td>Polynesia</td>\n",
       "      <td>56</td>\n",
       "      <td>47.00</td>\n",
       "      <td>NaN</td>\n",
       "    </tr>\n",
       "    <tr>\n",
       "      <th>South Georgia and the South Sandwich Islands</th>\n",
       "      <td>GS</td>\n",
       "      <td>SGS</td>\n",
       "      <td>King Edward Point</td>\n",
       "      <td>Americas</td>\n",
       "      <td>South America</td>\n",
       "      <td>30</td>\n",
       "      <td>NaN</td>\n",
       "      <td>NaN</td>\n",
       "    </tr>\n",
       "  </tbody>\n",
       "</table>\n",
       "</div>"
      ],
      "text/plain": [
       "                                             alpha2Code alpha3Code  \\\n",
       "name                                                                 \n",
       "Bouvet Island                                        BV        BVT   \n",
       "United States Minor Outlying Islands                 UM        UMI   \n",
       "Cocos (Keeling) Islands                              CC        CCK   \n",
       "French Southern Territories                          TF        ATF   \n",
       "Heard Island and McDonald Islands                    HM        HMD   \n",
       "Holy See                                             VA        VAT   \n",
       "Pitcairn                                             PN        PCN   \n",
       "South Georgia and the South Sandwich Islands         GS        SGS   \n",
       "\n",
       "                                                        capital    region  \\\n",
       "name                                                                        \n",
       "Bouvet Island                                                               \n",
       "United States Minor Outlying Islands                             Americas   \n",
       "Cocos (Keeling) Islands                             West Island   Oceania   \n",
       "French Southern Territories                   Port-aux-Français    Africa   \n",
       "Heard Island and McDonald Islands                                           \n",
       "Holy See                                                   Rome    Europe   \n",
       "Pitcairn                                              Adamstown   Oceania   \n",
       "South Georgia and the South Sandwich Islands  King Edward Point  Americas   \n",
       "\n",
       "                                                              subregion  \\\n",
       "name                                                                      \n",
       "Bouvet Island                                                             \n",
       "United States Minor Outlying Islands                   Northern America   \n",
       "Cocos (Keeling) Islands                       Australia and New Zealand   \n",
       "French Southern Territories                             Southern Africa   \n",
       "Heard Island and McDonald Islands                                         \n",
       "Holy See                                                Southern Europe   \n",
       "Pitcairn                                                      Polynesia   \n",
       "South Georgia and the South Sandwich Islands              South America   \n",
       "\n",
       "                                              population     area  gini  \n",
       "name                                                                     \n",
       "Bouvet Island                                          0    49.00   NaN  \n",
       "United States Minor Outlying Islands                 300      NaN   NaN  \n",
       "Cocos (Keeling) Islands                              550    14.00   NaN  \n",
       "French Southern Territories                          140  7747.00   NaN  \n",
       "Heard Island and McDonald Islands                      0   412.00   NaN  \n",
       "Holy See                                             451     0.44   NaN  \n",
       "Pitcairn                                              56    47.00   NaN  \n",
       "South Georgia and the South Sandwich Islands          30      NaN   NaN  "
      ]
     },
     "execution_count": 14,
     "metadata": {},
     "output_type": "execute_result"
    }
   ],
   "source": [
    "# Znas SQL? vyzkousej funkci query()\n",
    "staty.query(\"population < 1000\")"
   ]
  },
  {
   "cell_type": "markdown",
   "metadata": {},
   "source": [
    "### Spojení více podmínek\n",
    "\n",
    "Pokud chceme, aby musely být splněny obě podmínky, vložíme mezi ně symbol `&`. \n",
    "\n",
    "Pokud chceme, aby stačilo splnění jedné podmínky, použijeme symbol `|`. \n",
    "\n"
   ]
  },
  {
   "cell_type": "code",
   "execution_count": 15,
   "metadata": {},
   "outputs": [
    {
     "data": {
      "text/plain": [
       "name\n",
       "France                                                   66710000\n",
       "Germany                                                  81770900\n",
       "Italy                                                    60665551\n",
       "Poland                                                   38437239\n",
       "Russian Federation                                      146599183\n",
       "Spain                                                    46438422\n",
       "Ukraine                                                  42692393\n",
       "United Kingdom of Great Britain and Northern Ireland     65110000\n",
       "Name: population, dtype: int64"
      ]
     },
     "execution_count": 15,
     "metadata": {},
     "output_type": "execute_result"
    }
   ],
   "source": [
    "lidnate_evropske_staty = staty[(staty[\"population\"] > 20_000_000) & (staty[\"region\"] == \"Europe\")]\n",
    "lidnate_evropske_staty[\"population\"]"
   ]
  },
  {
   "cell_type": "code",
   "execution_count": 16,
   "metadata": {},
   "outputs": [
    {
     "data": {
      "text/html": [
       "<div>\n",
       "<style scoped>\n",
       "    .dataframe tbody tr th:only-of-type {\n",
       "        vertical-align: middle;\n",
       "    }\n",
       "\n",
       "    .dataframe tbody tr th {\n",
       "        vertical-align: top;\n",
       "    }\n",
       "\n",
       "    .dataframe thead th {\n",
       "        text-align: right;\n",
       "    }\n",
       "</style>\n",
       "<table border=\"1\" class=\"dataframe\">\n",
       "  <thead>\n",
       "    <tr style=\"text-align: right;\">\n",
       "      <th></th>\n",
       "      <th>alpha2Code</th>\n",
       "      <th>alpha3Code</th>\n",
       "      <th>capital</th>\n",
       "      <th>region</th>\n",
       "      <th>subregion</th>\n",
       "      <th>population</th>\n",
       "      <th>area</th>\n",
       "      <th>gini</th>\n",
       "    </tr>\n",
       "    <tr>\n",
       "      <th>name</th>\n",
       "      <th></th>\n",
       "      <th></th>\n",
       "      <th></th>\n",
       "      <th></th>\n",
       "      <th></th>\n",
       "      <th></th>\n",
       "      <th></th>\n",
       "      <th></th>\n",
       "    </tr>\n",
       "  </thead>\n",
       "  <tbody>\n",
       "    <tr>\n",
       "      <th>Antarctica</th>\n",
       "      <td>AQ</td>\n",
       "      <td>ATA</td>\n",
       "      <td></td>\n",
       "      <td>Polar</td>\n",
       "      <td></td>\n",
       "      <td>1000</td>\n",
       "      <td>14000000.0</td>\n",
       "      <td>NaN</td>\n",
       "    </tr>\n",
       "    <tr>\n",
       "      <th>Australia</th>\n",
       "      <td>AU</td>\n",
       "      <td>AUS</td>\n",
       "      <td>Canberra</td>\n",
       "      <td>Oceania</td>\n",
       "      <td>Australia and New Zealand</td>\n",
       "      <td>24117360</td>\n",
       "      <td>7692024.0</td>\n",
       "      <td>30.5</td>\n",
       "    </tr>\n",
       "    <tr>\n",
       "      <th>Brazil</th>\n",
       "      <td>BR</td>\n",
       "      <td>BRA</td>\n",
       "      <td>Brasília</td>\n",
       "      <td>Americas</td>\n",
       "      <td>South America</td>\n",
       "      <td>206135893</td>\n",
       "      <td>8515767.0</td>\n",
       "      <td>54.7</td>\n",
       "    </tr>\n",
       "    <tr>\n",
       "      <th>Canada</th>\n",
       "      <td>CA</td>\n",
       "      <td>CAN</td>\n",
       "      <td>Ottawa</td>\n",
       "      <td>Americas</td>\n",
       "      <td>Northern America</td>\n",
       "      <td>36155487</td>\n",
       "      <td>9984670.0</td>\n",
       "      <td>32.6</td>\n",
       "    </tr>\n",
       "    <tr>\n",
       "      <th>China</th>\n",
       "      <td>CN</td>\n",
       "      <td>CHN</td>\n",
       "      <td>Beijing</td>\n",
       "      <td>Asia</td>\n",
       "      <td>Eastern Asia</td>\n",
       "      <td>1377422166</td>\n",
       "      <td>9640011.0</td>\n",
       "      <td>47.0</td>\n",
       "    </tr>\n",
       "    <tr>\n",
       "      <th>India</th>\n",
       "      <td>IN</td>\n",
       "      <td>IND</td>\n",
       "      <td>New Delhi</td>\n",
       "      <td>Asia</td>\n",
       "      <td>Southern Asia</td>\n",
       "      <td>1295210000</td>\n",
       "      <td>3287590.0</td>\n",
       "      <td>33.4</td>\n",
       "    </tr>\n",
       "    <tr>\n",
       "      <th>Russian Federation</th>\n",
       "      <td>RU</td>\n",
       "      <td>RUS</td>\n",
       "      <td>Moscow</td>\n",
       "      <td>Europe</td>\n",
       "      <td>Eastern Europe</td>\n",
       "      <td>146599183</td>\n",
       "      <td>17124442.0</td>\n",
       "      <td>40.1</td>\n",
       "    </tr>\n",
       "    <tr>\n",
       "      <th>United States of America</th>\n",
       "      <td>US</td>\n",
       "      <td>USA</td>\n",
       "      <td>Washington, D.C.</td>\n",
       "      <td>Americas</td>\n",
       "      <td>Northern America</td>\n",
       "      <td>323947000</td>\n",
       "      <td>9629091.0</td>\n",
       "      <td>48.0</td>\n",
       "    </tr>\n",
       "  </tbody>\n",
       "</table>\n",
       "</div>"
      ],
      "text/plain": [
       "                         alpha2Code alpha3Code           capital    region  \\\n",
       "name                                                                         \n",
       "Antarctica                       AQ        ATA                       Polar   \n",
       "Australia                        AU        AUS          Canberra   Oceania   \n",
       "Brazil                           BR        BRA          Brasília  Americas   \n",
       "Canada                           CA        CAN            Ottawa  Americas   \n",
       "China                            CN        CHN           Beijing      Asia   \n",
       "India                            IN        IND         New Delhi      Asia   \n",
       "Russian Federation               RU        RUS            Moscow    Europe   \n",
       "United States of America         US        USA  Washington, D.C.  Americas   \n",
       "\n",
       "                                          subregion  population        area  \\\n",
       "name                                                                          \n",
       "Antarctica                                                 1000  14000000.0   \n",
       "Australia                 Australia and New Zealand    24117360   7692024.0   \n",
       "Brazil                                South America   206135893   8515767.0   \n",
       "Canada                             Northern America    36155487   9984670.0   \n",
       "China                                  Eastern Asia  1377422166   9640011.0   \n",
       "India                                 Southern Asia  1295210000   3287590.0   \n",
       "Russian Federation                   Eastern Europe   146599183  17124442.0   \n",
       "United States of America           Northern America   323947000   9629091.0   \n",
       "\n",
       "                          gini  \n",
       "name                            \n",
       "Antarctica                 NaN  \n",
       "Australia                 30.5  \n",
       "Brazil                    54.7  \n",
       "Canada                    32.6  \n",
       "China                     47.0  \n",
       "India                     33.4  \n",
       "Russian Federation        40.1  \n",
       "United States of America  48.0  "
      ]
     },
     "execution_count": 16,
     "metadata": {},
     "output_type": "execute_result"
    }
   ],
   "source": [
    "staty[(staty[\"population\"] > 10_000_000_000) | (staty[\"area\"] > 3_000_000)]"
   ]
  },
  {
   "cell_type": "markdown",
   "metadata": {},
   "source": [
    "### Použití seznamu v podmínce\n",
    "\n",
    "Funkce `isin()` aplikovaná na jeden konkrétní sloupec vrátí nám `True` pro všechny řádky, pro které je hodnota přítomná v seznamu. "
   ]
  },
  {
   "cell_type": "code",
   "execution_count": 17,
   "metadata": {},
   "outputs": [
    {
     "data": {
      "text/html": [
       "<div>\n",
       "<style scoped>\n",
       "    .dataframe tbody tr th:only-of-type {\n",
       "        vertical-align: middle;\n",
       "    }\n",
       "\n",
       "    .dataframe tbody tr th {\n",
       "        vertical-align: top;\n",
       "    }\n",
       "\n",
       "    .dataframe thead th {\n",
       "        text-align: right;\n",
       "    }\n",
       "</style>\n",
       "<table border=\"1\" class=\"dataframe\">\n",
       "  <thead>\n",
       "    <tr style=\"text-align: right;\">\n",
       "      <th></th>\n",
       "      <th>alpha2Code</th>\n",
       "      <th>alpha3Code</th>\n",
       "      <th>capital</th>\n",
       "      <th>region</th>\n",
       "      <th>subregion</th>\n",
       "      <th>population</th>\n",
       "      <th>area</th>\n",
       "      <th>gini</th>\n",
       "    </tr>\n",
       "    <tr>\n",
       "      <th>name</th>\n",
       "      <th></th>\n",
       "      <th></th>\n",
       "      <th></th>\n",
       "      <th></th>\n",
       "      <th></th>\n",
       "      <th></th>\n",
       "      <th></th>\n",
       "      <th></th>\n",
       "    </tr>\n",
       "  </thead>\n",
       "  <tbody>\n",
       "    <tr>\n",
       "      <th>Austria</th>\n",
       "      <td>AT</td>\n",
       "      <td>AUT</td>\n",
       "      <td>Vienna</td>\n",
       "      <td>Europe</td>\n",
       "      <td>Western Europe</td>\n",
       "      <td>8725931</td>\n",
       "      <td>83871.00</td>\n",
       "      <td>26.0</td>\n",
       "    </tr>\n",
       "    <tr>\n",
       "      <th>Belarus</th>\n",
       "      <td>BY</td>\n",
       "      <td>BLR</td>\n",
       "      <td>Minsk</td>\n",
       "      <td>Europe</td>\n",
       "      <td>Eastern Europe</td>\n",
       "      <td>9498700</td>\n",
       "      <td>207600.00</td>\n",
       "      <td>26.5</td>\n",
       "    </tr>\n",
       "    <tr>\n",
       "      <th>Belgium</th>\n",
       "      <td>BE</td>\n",
       "      <td>BEL</td>\n",
       "      <td>Brussels</td>\n",
       "      <td>Europe</td>\n",
       "      <td>Western Europe</td>\n",
       "      <td>11319511</td>\n",
       "      <td>30528.00</td>\n",
       "      <td>33.0</td>\n",
       "    </tr>\n",
       "    <tr>\n",
       "      <th>Bulgaria</th>\n",
       "      <td>BG</td>\n",
       "      <td>BGR</td>\n",
       "      <td>Sofia</td>\n",
       "      <td>Europe</td>\n",
       "      <td>Eastern Europe</td>\n",
       "      <td>7153784</td>\n",
       "      <td>110879.00</td>\n",
       "      <td>28.2</td>\n",
       "    </tr>\n",
       "    <tr>\n",
       "      <th>Czech Republic</th>\n",
       "      <td>CZ</td>\n",
       "      <td>CZE</td>\n",
       "      <td>Prague</td>\n",
       "      <td>Europe</td>\n",
       "      <td>Eastern Europe</td>\n",
       "      <td>10558524</td>\n",
       "      <td>78865.00</td>\n",
       "      <td>26.0</td>\n",
       "    </tr>\n",
       "    <tr>\n",
       "      <th>France</th>\n",
       "      <td>FR</td>\n",
       "      <td>FRA</td>\n",
       "      <td>Paris</td>\n",
       "      <td>Europe</td>\n",
       "      <td>Western Europe</td>\n",
       "      <td>66710000</td>\n",
       "      <td>640679.00</td>\n",
       "      <td>32.7</td>\n",
       "    </tr>\n",
       "    <tr>\n",
       "      <th>Germany</th>\n",
       "      <td>DE</td>\n",
       "      <td>DEU</td>\n",
       "      <td>Berlin</td>\n",
       "      <td>Europe</td>\n",
       "      <td>Western Europe</td>\n",
       "      <td>81770900</td>\n",
       "      <td>357114.00</td>\n",
       "      <td>28.3</td>\n",
       "    </tr>\n",
       "    <tr>\n",
       "      <th>Hungary</th>\n",
       "      <td>HU</td>\n",
       "      <td>HUN</td>\n",
       "      <td>Budapest</td>\n",
       "      <td>Europe</td>\n",
       "      <td>Eastern Europe</td>\n",
       "      <td>9823000</td>\n",
       "      <td>93028.00</td>\n",
       "      <td>31.2</td>\n",
       "    </tr>\n",
       "    <tr>\n",
       "      <th>Liechtenstein</th>\n",
       "      <td>LI</td>\n",
       "      <td>LIE</td>\n",
       "      <td>Vaduz</td>\n",
       "      <td>Europe</td>\n",
       "      <td>Western Europe</td>\n",
       "      <td>37623</td>\n",
       "      <td>160.00</td>\n",
       "      <td>NaN</td>\n",
       "    </tr>\n",
       "    <tr>\n",
       "      <th>Luxembourg</th>\n",
       "      <td>LU</td>\n",
       "      <td>LUX</td>\n",
       "      <td>Luxembourg</td>\n",
       "      <td>Europe</td>\n",
       "      <td>Western Europe</td>\n",
       "      <td>576200</td>\n",
       "      <td>2586.00</td>\n",
       "      <td>30.8</td>\n",
       "    </tr>\n",
       "    <tr>\n",
       "      <th>Moldova (Republic of)</th>\n",
       "      <td>MD</td>\n",
       "      <td>MDA</td>\n",
       "      <td>Chișinău</td>\n",
       "      <td>Europe</td>\n",
       "      <td>Eastern Europe</td>\n",
       "      <td>3553100</td>\n",
       "      <td>33846.00</td>\n",
       "      <td>33.0</td>\n",
       "    </tr>\n",
       "    <tr>\n",
       "      <th>Monaco</th>\n",
       "      <td>MC</td>\n",
       "      <td>MCO</td>\n",
       "      <td>Monaco</td>\n",
       "      <td>Europe</td>\n",
       "      <td>Western Europe</td>\n",
       "      <td>38400</td>\n",
       "      <td>2.02</td>\n",
       "      <td>NaN</td>\n",
       "    </tr>\n",
       "    <tr>\n",
       "      <th>Netherlands</th>\n",
       "      <td>NL</td>\n",
       "      <td>NLD</td>\n",
       "      <td>Amsterdam</td>\n",
       "      <td>Europe</td>\n",
       "      <td>Western Europe</td>\n",
       "      <td>17019800</td>\n",
       "      <td>41850.00</td>\n",
       "      <td>30.9</td>\n",
       "    </tr>\n",
       "    <tr>\n",
       "      <th>Poland</th>\n",
       "      <td>PL</td>\n",
       "      <td>POL</td>\n",
       "      <td>Warsaw</td>\n",
       "      <td>Europe</td>\n",
       "      <td>Eastern Europe</td>\n",
       "      <td>38437239</td>\n",
       "      <td>312679.00</td>\n",
       "      <td>34.1</td>\n",
       "    </tr>\n",
       "    <tr>\n",
       "      <th>Republic of Kosovo</th>\n",
       "      <td>XK</td>\n",
       "      <td>KOS</td>\n",
       "      <td>Pristina</td>\n",
       "      <td>Europe</td>\n",
       "      <td>Eastern Europe</td>\n",
       "      <td>1733842</td>\n",
       "      <td>10908.00</td>\n",
       "      <td>NaN</td>\n",
       "    </tr>\n",
       "    <tr>\n",
       "      <th>Romania</th>\n",
       "      <td>RO</td>\n",
       "      <td>ROU</td>\n",
       "      <td>Bucharest</td>\n",
       "      <td>Europe</td>\n",
       "      <td>Eastern Europe</td>\n",
       "      <td>19861408</td>\n",
       "      <td>238391.00</td>\n",
       "      <td>30.0</td>\n",
       "    </tr>\n",
       "    <tr>\n",
       "      <th>Russian Federation</th>\n",
       "      <td>RU</td>\n",
       "      <td>RUS</td>\n",
       "      <td>Moscow</td>\n",
       "      <td>Europe</td>\n",
       "      <td>Eastern Europe</td>\n",
       "      <td>146599183</td>\n",
       "      <td>17124442.00</td>\n",
       "      <td>40.1</td>\n",
       "    </tr>\n",
       "    <tr>\n",
       "      <th>Slovakia</th>\n",
       "      <td>SK</td>\n",
       "      <td>SVK</td>\n",
       "      <td>Bratislava</td>\n",
       "      <td>Europe</td>\n",
       "      <td>Eastern Europe</td>\n",
       "      <td>5426252</td>\n",
       "      <td>49037.00</td>\n",
       "      <td>26.0</td>\n",
       "    </tr>\n",
       "    <tr>\n",
       "      <th>Switzerland</th>\n",
       "      <td>CH</td>\n",
       "      <td>CHE</td>\n",
       "      <td>Bern</td>\n",
       "      <td>Europe</td>\n",
       "      <td>Western Europe</td>\n",
       "      <td>8341600</td>\n",
       "      <td>41284.00</td>\n",
       "      <td>33.7</td>\n",
       "    </tr>\n",
       "    <tr>\n",
       "      <th>Ukraine</th>\n",
       "      <td>UA</td>\n",
       "      <td>UKR</td>\n",
       "      <td>Kiev</td>\n",
       "      <td>Europe</td>\n",
       "      <td>Eastern Europe</td>\n",
       "      <td>42692393</td>\n",
       "      <td>603700.00</td>\n",
       "      <td>26.4</td>\n",
       "    </tr>\n",
       "  </tbody>\n",
       "</table>\n",
       "</div>"
      ],
      "text/plain": [
       "                      alpha2Code alpha3Code     capital  region  \\\n",
       "name                                                              \n",
       "Austria                       AT        AUT      Vienna  Europe   \n",
       "Belarus                       BY        BLR       Minsk  Europe   \n",
       "Belgium                       BE        BEL    Brussels  Europe   \n",
       "Bulgaria                      BG        BGR       Sofia  Europe   \n",
       "Czech Republic                CZ        CZE      Prague  Europe   \n",
       "France                        FR        FRA       Paris  Europe   \n",
       "Germany                       DE        DEU      Berlin  Europe   \n",
       "Hungary                       HU        HUN    Budapest  Europe   \n",
       "Liechtenstein                 LI        LIE       Vaduz  Europe   \n",
       "Luxembourg                    LU        LUX  Luxembourg  Europe   \n",
       "Moldova (Republic of)         MD        MDA    Chișinău  Europe   \n",
       "Monaco                        MC        MCO      Monaco  Europe   \n",
       "Netherlands                   NL        NLD   Amsterdam  Europe   \n",
       "Poland                        PL        POL      Warsaw  Europe   \n",
       "Republic of Kosovo            XK        KOS    Pristina  Europe   \n",
       "Romania                       RO        ROU   Bucharest  Europe   \n",
       "Russian Federation            RU        RUS      Moscow  Europe   \n",
       "Slovakia                      SK        SVK  Bratislava  Europe   \n",
       "Switzerland                   CH        CHE        Bern  Europe   \n",
       "Ukraine                       UA        UKR        Kiev  Europe   \n",
       "\n",
       "                            subregion  population         area  gini  \n",
       "name                                                                  \n",
       "Austria                Western Europe     8725931     83871.00  26.0  \n",
       "Belarus                Eastern Europe     9498700    207600.00  26.5  \n",
       "Belgium                Western Europe    11319511     30528.00  33.0  \n",
       "Bulgaria               Eastern Europe     7153784    110879.00  28.2  \n",
       "Czech Republic         Eastern Europe    10558524     78865.00  26.0  \n",
       "France                 Western Europe    66710000    640679.00  32.7  \n",
       "Germany                Western Europe    81770900    357114.00  28.3  \n",
       "Hungary                Eastern Europe     9823000     93028.00  31.2  \n",
       "Liechtenstein          Western Europe       37623       160.00   NaN  \n",
       "Luxembourg             Western Europe      576200      2586.00  30.8  \n",
       "Moldova (Republic of)  Eastern Europe     3553100     33846.00  33.0  \n",
       "Monaco                 Western Europe       38400         2.02   NaN  \n",
       "Netherlands            Western Europe    17019800     41850.00  30.9  \n",
       "Poland                 Eastern Europe    38437239    312679.00  34.1  \n",
       "Republic of Kosovo     Eastern Europe     1733842     10908.00   NaN  \n",
       "Romania                Eastern Europe    19861408    238391.00  30.0  \n",
       "Russian Federation     Eastern Europe   146599183  17124442.00  40.1  \n",
       "Slovakia               Eastern Europe     5426252     49037.00  26.0  \n",
       "Switzerland            Western Europe     8341600     41284.00  33.7  \n",
       "Ukraine                Eastern Europe    42692393    603700.00  26.4  "
      ]
     },
     "execution_count": 17,
     "metadata": {},
     "output_type": "execute_result"
    }
   ],
   "source": [
    "staty[staty[\"subregion\"].isin([\"Western Europe\", \"Eastern Europe\"])]"
   ]
  },
  {
   "cell_type": "markdown",
   "metadata": {},
   "source": [
    "## Převody dat na DataFrame a zpět"
   ]
  },
  {
   "cell_type": "markdown",
   "metadata": {},
   "source": [
    "### Převod DataFrame na seznam\n",
    "\n",
    "K takovému převodu na seznam nám poslouží kombinace funkcí `to_numpy` a `tolist`. \n",
    "\n",
    "Převod totiž neprovádíme přímo, ale jako mezikrok jej převedeme na pole modulu `numpy`."
   ]
  },
  {
   "cell_type": "code",
   "execution_count": 18,
   "metadata": {},
   "outputs": [
    {
     "data": {
      "text/plain": [
       "['AF', 'AFG', 'Kabul', 'Asia', 'Southern Asia', 27657145, 652230.0, 27.8]"
      ]
     },
     "execution_count": 18,
     "metadata": {},
     "output_type": "execute_result"
    }
   ],
   "source": [
    "staty_list = staty.to_numpy().tolist() \n",
    "staty_list[0] "
   ]
  },
  {
   "cell_type": "markdown",
   "metadata": {},
   "source": [
    "Index se v Pandas nebere jako součást dat. \n",
    "\n",
    "Pokud chceme index vrátit do původního stavu a mít ho jako automaticky generovaná čísla řádků, můžeme použít metodu `reset_index`."
   ]
  },
  {
   "cell_type": "code",
   "execution_count": 19,
   "metadata": {},
   "outputs": [
    {
     "data": {
      "text/plain": [
       "['Afghanistan',\n",
       " 'AF',\n",
       " 'AFG',\n",
       " 'Kabul',\n",
       " 'Asia',\n",
       " 'Southern Asia',\n",
       " 27657145,\n",
       " 652230.0,\n",
       " 27.8]"
      ]
     },
     "execution_count": 19,
     "metadata": {},
     "output_type": "execute_result"
    }
   ],
   "source": [
    "staty_list = staty.reset_index().to_numpy().tolist() \n",
    "\n",
    "staty_list[0]"
   ]
  },
  {
   "cell_type": "markdown",
   "metadata": {},
   "source": [
    "### Vytvoření DataFrame ze seznamu"
   ]
  },
  {
   "cell_type": "code",
   "execution_count": 20,
   "metadata": {},
   "outputs": [],
   "source": [
    "znamky = [\n",
    "    ['Petr', 2],\n",
    "    ['Roman', 1],\n",
    "    ['Jitka', 3],\n",
    "    ['Zuzana', 5],\n",
    "    ['Ondřej', 2],\n",
    "    ['Julie', 2],\n",
    "    ['Karel', 4],\n",
    "    ['Anna', 1],\n",
    "    ['Eva', 1]\n",
    "]\n",
    "\n",
    "soucet = 0\n",
    "for radek in znamky:\n",
    "    soucet = soucet + radek[1]\n",
    "prumer = soucet / len(znamky)"
   ]
  },
  {
   "cell_type": "code",
   "execution_count": 28,
   "metadata": {},
   "outputs": [
    {
     "data": {
      "text/plain": [
       "2.3333333333333335"
      ]
     },
     "execution_count": 28,
     "metadata": {},
     "output_type": "execute_result"
    }
   ],
   "source": [
    "znamky = pandas.DataFrame(znamky, columns=['student', 'znamka'])\n",
    "\n",
    "prumer = znamky[\"znamka\"].mean()"
   ]
  },
  {
   "cell_type": "markdown",
   "metadata": {},
   "source": [
    "### Vytvoření DataFrame ze seznamu slovníků"
   ]
  },
  {
   "cell_type": "markdown",
   "metadata": {},
   "source": [
    "Nemusíme přidávat názvy sloupců, protože ty už funkce DataFrame získá z klíčů slovníků."
   ]
  },
  {
   "cell_type": "code",
   "execution_count": 22,
   "metadata": {},
   "outputs": [],
   "source": [
    "nakupy = [\n",
    "    {\"person\": \"Petr\", \"item\": \"Prací prášek\", \"value\": 399},\n",
    "    {\"person\": \"Ondra\", \"item\": \"Savo\", \"value\": 80},\n",
    "    {\"person\": \"Petr\", \"item\": \"Toaletní papír\", \"value\": 65},\n",
    "    {\"person\": \"Libor\", \"item\": \"Pivo\", \"value\": 124},\n",
    "    {\"person\": \"Petr\", \"item\": \"Pytel na odpadky\", \"value\": 75},\n",
    "    {\"person\": \"Míša\", \"item\": \"Utěrky na nádobí\", \"value\": 130},\n",
    "    {\"person\": \"Ondra\", \"item\": \"Toaletní papír\", \"value\": 120},\n",
    "    {\"person\": \"Míša\", \"item\": \"Pečící papír\", \"value\": 30},\n",
    "    {\"person\": \"Zuzka\", \"item\": \"Savo\", \"value\": 80},\n",
    "    {\"person\": \"Pavla\", \"item\": \"Máslo\", \"value\": 50},\n",
    "    {\"person\": \"Ondra\", \"item\": \"Káva\", \"value\": 300}\n",
    "]"
   ]
  },
  {
   "cell_type": "code",
   "execution_count": 25,
   "metadata": {},
   "outputs": [
    {
     "name": "stdout",
     "output_type": "stream",
     "text": [
      "<class 'pandas.core.frame.DataFrame'>\n",
      "RangeIndex: 11 entries, 0 to 10\n",
      "Data columns (total 3 columns):\n",
      " #   Column  Non-Null Count  Dtype \n",
      "---  ------  --------------  ----- \n",
      " 0   person  11 non-null     object\n",
      " 1   item    11 non-null     object\n",
      " 2   value   11 non-null     int64 \n",
      "dtypes: int64(1), object(2)\n",
      "memory usage: 392.0+ bytes\n"
     ]
    }
   ],
   "source": [
    "nakupy = pandas.DataFrame(nakupy)\n",
    "nakupy.info()"
   ]
  }
 ],
 "metadata": {
  "kernelspec": {
   "display_name": "Python 3.10.5 64-bit",
   "language": "python",
   "name": "python3"
  },
  "language_info": {
   "codemirror_mode": {
    "name": "ipython",
    "version": 3
   },
   "file_extension": ".py",
   "mimetype": "text/x-python",
   "name": "python",
   "nbconvert_exporter": "python",
   "pygments_lexer": "ipython3",
   "version": "3.11.0"
  },
  "orig_nbformat": 4,
  "vscode": {
   "interpreter": {
    "hash": "3e76de8c093f2eec0de7f8a9fb852f3025a70754bce50711dd9a29e35bde50a9"
   }
  }
 },
 "nbformat": 4,
 "nbformat_minor": 2
}
