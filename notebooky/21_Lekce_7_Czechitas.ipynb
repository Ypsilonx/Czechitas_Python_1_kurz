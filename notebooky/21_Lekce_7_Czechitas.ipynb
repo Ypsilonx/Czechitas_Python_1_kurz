{
 "cells": [
  {
   "cell_type": "markdown",
   "metadata": {
    "colab_type": "text",
    "id": "view-in-github"
   },
   "source": [
    "<a href=\"https://colab.research.google.com/github/Ypsilonx/Czechitas_Python_1_kurz/blob/Python-1/21_Lekce_7_Czechitas.ipynb\" target=\"_parent\"><img src=\"https://colab.research.google.com/assets/colab-badge.svg\" alt=\"Open In Colab\"/></a>"
   ]
  },
  {
   "cell_type": "markdown",
   "metadata": {
    "id": "S5Z0EZGYAkdg"
   },
   "source": [
    "# Zkoušíme\n"
   ]
  },
  {
   "cell_type": "code",
   "execution_count": null,
   "metadata": {
    "id": "7pnwswrhA1f5"
   },
   "outputs": [],
   "source": [
    "print(\"Ahoj jak se máš?\")\n",
    "ja_se_mam = input(\"Napiš jak se máš? \")\n",
    "print(ja_se_mam)"
   ]
  },
  {
   "cell_type": "markdown",
   "metadata": {
    "id": "2qnPha4GTaL1"
   },
   "source": [
    "nepotřebuji print"
   ]
  },
  {
   "cell_type": "code",
   "execution_count": 8,
   "metadata": {
    "id": "7uaT-nl6TdKk"
   },
   "outputs": [],
   "source": [
    "x = \"Ahoj\""
   ]
  },
  {
   "cell_type": "markdown",
   "metadata": {
    "id": "7lr_rkwSY5Kw"
   },
   "source": [
    "datum a čas"
   ]
  },
  {
   "cell_type": "code",
   "execution_count": null,
   "metadata": {
    "id": "9iuskB_4Y7gX"
   },
   "outputs": [],
   "source": [
    "from datetime import datetime, timedelta, date, timezone\n",
    "datetime.now()"
   ]
  },
  {
   "cell_type": "markdown",
   "metadata": {
    "id": "-SA6ot1VaPyZ"
   },
   "source": [
    "start apolla"
   ]
  },
  {
   "cell_type": "code",
   "execution_count": 10,
   "metadata": {
    "colab": {
     "base_uri": "https://localhost:8080/"
    },
    "id": "ZXxhs63gaRXS",
    "outputId": "e78492bf-96a5-4c2f-c6a0-ba34de5997ac"
   },
   "outputs": [
    {
     "data": {
      "text/plain": [
       "datetime.datetime(1996, 7, 16, 14, 32)"
      ]
     },
     "execution_count": 10,
     "metadata": {},
     "output_type": "execute_result"
    }
   ],
   "source": [
    "start_apolla = datetime(1996, 7, 16, 14, 32)\n",
    "start_apolla"
   ]
  },
  {
   "cell_type": "code",
   "execution_count": null,
   "metadata": {
    "id": "LRuxOl1WbgoM"
   },
   "outputs": [],
   "source": [
    "datum_narození = datetime(1989, 10, 8, 22, 18, 4, 654)\n",
    "datum_narození.isoweekday()\n",
    "datum_narození.strftime(\"%H:%M %I %p\")"
   ]
  },
  {
   "cell_type": "markdown",
   "metadata": {
    "id": "BjN9MTjUfRK9"
   },
   "source": [
    "___________________________________________________"
   ]
  },
  {
   "cell_type": "code",
   "execution_count": 26,
   "metadata": {
    "colab": {
     "base_uri": "https://localhost:8080/"
    },
    "id": "VwqT9i4ofQeN",
    "outputId": "a56db69f-26b8-4ee6-b6a2-b54b1b8bc7b3"
   },
   "outputs": [
    {
     "name": "stdout",
     "output_type": "stream",
     "text": [
      "07/16/1969\n"
     ]
    }
   ],
   "source": [
    "from datetime import datetime, timedelta, date, timezone\n",
    "\n",
    "apollo_start = datetime(1969, 7, 16, 14, 32)\n",
    "apollo_start_US = apollo_start.strftime(\"%m/%d/%Y\")\n",
    "print(apollo_start_US)"
   ]
  },
  {
   "cell_type": "code",
   "execution_count": 32,
   "metadata": {
    "colab": {
     "base_uri": "https://localhost:8080/"
    },
    "id": "IjGE0RaGn9t7",
    "outputId": "2ab465c2-8479-4b5f-cf7e-301e3dbb778b"
   },
   "outputs": [
    {
     "name": "stdout",
     "output_type": "stream",
     "text": [
      "Monday\n"
     ]
    }
   ],
   "source": [
    "orbiter_start = datetime(2020, 2, 10, 5, 3)\n",
    "#den_start_orbiter = orbiter_start.weekday()\n",
    "den_start_orbiter = orbiter_start.strftime(\"%A\")\n",
    "print(den_start_orbiter)"
   ]
  },
  {
   "cell_type": "code",
   "execution_count": 24,
   "metadata": {
    "colab": {
     "base_uri": "https://localhost:8080/"
    },
    "id": "4uaj5fUUojXi",
    "outputId": "53908d83-029b-49c6-e410-bd546209a30d"
   },
   "outputs": [
    {
     "name": "stdout",
     "output_type": "stream",
     "text": [
      "995 days, 14:18:13.085961\n"
     ]
    }
   ],
   "source": [
    "orbiter_start = datetime(2020, 2, 10, 5, 3)\n",
    "cas = datetime.now()\n",
    "\n",
    "rozdil = cas - orbiter_start\n",
    "print(rozdil)"
   ]
  },
  {
   "cell_type": "code",
   "execution_count": 35,
   "metadata": {
    "colab": {
     "base_uri": "https://localhost:8080/"
    },
    "id": "fUF0IFrMpGlz",
    "outputId": "9b665f43-7eb9-41b3-8f0b-987fa6108a77"
   },
   "outputs": [
    {
     "name": "stdout",
     "output_type": "stream",
     "text": [
      "2020-11-13 20:51:05\n"
     ]
    }
   ],
   "source": [
    "cas_objednavky = datetime(2020, 11, 13, 19, 47)\n",
    "doba_prevzeti = timedelta(minutes=8, seconds=35)\n",
    "doba_pripravy = timedelta(minutes=30)\n",
    "doba_dopravy = timedelta(minutes=25, seconds=30)\n",
    "doba_celkove = doba_prevzeti + doba_pripravy + doba_dopravy\n",
    "\n",
    "cas_doruceni = cas_objednavky + doba_celkove\n",
    "print(cas_doruceni)"
   ]
  }
 ],
 "metadata": {
  "colab": {
   "authorship_tag": "ABX9TyMVc3Hoqd80BI0lDg0+9OYs",
   "collapsed_sections": [],
   "include_colab_link": true,
   "mount_file_id": "1HypNqcDAzmzljo3IsznAkKmvdVqdmdWU",
   "provenance": [],
   "toc_visible": true
  },
  "kernelspec": {
   "display_name": "Python 3 (ipykernel)",
   "language": "python",
   "name": "python3"
  },
  "language_info": {
   "codemirror_mode": {
    "name": "ipython",
    "version": 3
   },
   "file_extension": ".py",
   "mimetype": "text/x-python",
   "name": "python",
   "nbconvert_exporter": "python",
   "pygments_lexer": "ipython3",
   "version": "3.10.5"
  }
 },
 "nbformat": 4,
 "nbformat_minor": 1
}
