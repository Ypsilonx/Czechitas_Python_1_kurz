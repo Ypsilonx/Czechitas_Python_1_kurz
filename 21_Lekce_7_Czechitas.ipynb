{
  "nbformat": 4,
  "nbformat_minor": 0,
  "metadata": {
    "colab": {
      "provenance": [],
      "toc_visible": true,
      "mount_file_id": "1HypNqcDAzmzljo3IsznAkKmvdVqdmdWU",
      "authorship_tag": "ABX9TyMZaka8KfLxLgy3uuQoewpR"
    },
    "kernelspec": {
      "name": "python3",
      "display_name": "Python 3"
    },
    "language_info": {
      "name": "python"
    }
  },
  "cells": [
    {
      "cell_type": "code",
      "execution_count": null,
      "metadata": {
        "id": "EUqWFYTrxR9h"
      },
      "outputs": [],
      "source": []
    }
  ]
}